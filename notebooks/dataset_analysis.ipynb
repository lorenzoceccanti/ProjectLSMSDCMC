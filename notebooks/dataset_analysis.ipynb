{
  "cells": [
    {
      "cell_type": "markdown",
      "metadata": {},
      "source": [
        "# Dataset Analysis"
      ]
    },
    {
      "cell_type": "code",
      "execution_count": 11,
      "metadata": {},
      "outputs": [],
      "source": [
        "import json\n",
        "\n",
        "# Carica il dataset JSON\n",
        "with open('./../dataset/games_dataset_with_companies.json', 'r') as file:\n",
        "    json_data = json.load(file)"
      ]
    },
    {
      "cell_type": "code",
      "execution_count": 4,
      "metadata": {},
      "outputs": [],
      "source": [
        "# Carica il dataset JSON raw\n",
        "with open('./../dataset/raw_dataset_with_companies.json', 'r') as file:\n",
        "    json_data_raw = json.load(file)"
      ]
    },
    {
      "cell_type": "markdown",
      "metadata": {},
      "source": [
        "## List of the fields"
      ]
    },
    {
      "cell_type": "markdown",
      "metadata": {},
      "source": [
        "Before diving into the code, let's give a look to the fields and the type of data that each of them contains (The following code performs a kind of SELECT DISTINCT of the fields):\n",
        "\n",
        "**NOTE!** 🟢\n",
        "The field \"*Example Content*\" contains 5 random samples of the field content. These samples are not aggregated."
      ]
    },
    {
      "cell_type": "markdown",
      "metadata": {},
      "source": [
        "| **FIELD** \t| **TYPE** \t| **TO PARSE** \t| **Are we going to use it?** \t| **Example Content** \t|\n",
        "|---\t|:---:\t|:---:\t|:---:\t|---\t|\n",
        "| age_ratings \t|  \t| 🟠 \t| ❌ \t| [[114607, 114609, 126972, 126973, 126974, 127011], [39395, 54394], [65532], [67799], [57121, 58326, 91135, 93494, 110841, 126135]] \t|\n",
        "| aggregated_rating \t| float \t|  \t| ❌ \t| [65.0, 73.25, 82.5, 69.0, 70.93333333333334] \t|\n",
        "| aggregated_rating_count \t|  \t|  \t| ❌ \t| [3, 4, 3, 1, 17] \t|\n",
        "| alternative_names \t|  \t|  \t| ❌ \t| [[36941, 36942, 127468], [65648, 105850, 117666], [120224], [97398], [106570, 116583]] \t|\n",
        "| artworks \t|  \t|  \t| ❌ \t| [[96775], [14195], [9728], [115992], [11731, 68424]] \t|\n",
        "| bundles \t|  \t|  \t| ❌ \t| [[263897], [230749, 230823, 230826], [251322], [29208], [136262, 164674, 164778, 219003, 230498, 230702]] \t|\n",
        "| category \t|  \t| 🟢 \t| ✅ \t| [0, 0, 0, 0, 0] \t|\n",
        "| checksum \t|  \t|  \t| ❌ \t| ['4e87d634-9146-2025-b09b-9e4ea1e04764', '00e38d21-91cd-3082-4737-7978c44e33e2', '40916ead-d6e4-99f3-ab54-d653605a984b', '489ad4d0-e2f2-09e0-3bae-a76091559c44', 'bc043ffb-ad60-6bd0-801b-55a6141e773c'] \t|\n",
        "| collection \t|  \t| 🟠 \t|  \t| [602, 2449, 7103, 7856, 559] \t|\n",
        "| collections \t|  \t| 🟠 \t|  \t| [[602], [18], [18], [39, 7197], [39]] \t|\n",
        "| cover \t|  \t|  \t| ❌ \t| [280467, 247255, 272120, 192106, 326638] \t|\n",
        "| created_at \t|  \t|  \t| ❌ \t| [1673878007, 1621112209, 1499434349, 1517405808, 1521818623] \t|\n",
        "| dlcs \t| game_id \t|  \t|  \t| [[171610], [8219, 222679, 239352], [172092], [212363, 212364, 212365], [140056, 140057, 140058]] \t|\n",
        "| expanded_games (?) \t| game_id \t|  \t|  \t| [[135286], [30251], [78807], [57658], [124492]] \t|\n",
        "| expansions (?) \t| game_id \t|  \t|  \t| [[171428], [19540, 19551, 26852], [44596], [171147], [18442]] \t|\n",
        "| external_games \t|  \t| game_id of other platforms \t| ❌ \t| [[2639959, 2677882, 2677897, 2677919, 2678595], [2011978], [51807, 154169, 1867507], [221231, 1748471, 1991656], [1989881]] \t|\n",
        "| first_release_date \t|  \t|  \t| ✅ \t| [1677110400, 1610928000, 1019001600, 1559952000, 1644796800] \t|\n",
        "| follows \t|  \t| followers of the game \t|  \t| [1, 1, 1, 63, 244] \t|\n",
        "| forks (?) \t|  \t|  \t|  \t| [[79074, 109134, 133635, 147176, 151170, 176876, 197828, 246736, 255413], [235313], [141686], [67248], [142289]] \t|\n",
        "| franchise \t|  \t| 🟠 \t|  \t| [361, 9, 102, 299, 105] \t|\n",
        "| franchises \t|  \t| 🟠 \t|  \t| [[1651, 3134], [872, 874], [3390], [509, 977], [1351]] \t|\n",
        "| game_engines \t|  \t| 🟠 \t| ❌ \t| [[1543], [427], [439], [72], [10]] \t|\n",
        "| game_localizations \t|  \t| 🟠 \t| ❌ \t| [[2026, 13450], [4006, 19440], [14535], [1863, 3984], [11783, 20873]] \t|\n",
        "| game_modes \t|  \t| 🟢 \t| ✅ \t| [[1, 2], [1, 2], [1], [1], [1]] \t|\n",
        "| genres \t|  \t| 🟢 \t| ✅ \t| [[15], [4, 31, 33], [7, 13, 33], [9, 33], [31, 32]] \t|\n",
        "| hypes \t|  \t| number of followers before release date \t| ❌ \t| [1, 1, 26, 2, 2] \t|\n",
        "| id \t| game_id \t| id_of_IGDB \t| ✅ \t| [231577, 147666, 44711, 85450, 95080] \t|\n",
        "| companies \t|  \t| 🟢 \t| ✅ \t|   \t|\n",
        "| keywords \t|  \t|  \t| ❌ \t| [[1699, 2152, 4137, 4438, 5029, 5188, 5189, 10098, 13115], [101], [78, 394, 960, 1033, 2458], [30750, 33125], [1308, 3257]] \t|\n",
        "| language_supports \t|  \t| 🟠 \t| ✅ \t| [[504844], [784416, 784417, 784418, 784419], [108775, 108776], [430843, 430844, 430845], [46076, 46078, 46080, 46082, 46084, 46086, 46088, 46090, 46092, 46094, 46096, 46098, 46100, 46102, 46104, 46106, 46108, 46110, 46112, 46114, 148503, 148505, 148507, 148513, 148515]] \t|\n",
        "| multiplayer_modes \t|  \t|  \t| ❌ \t| [[11174, 11175], [18654], [20006], [7037, 7982, 12750, 21945], [22267]] \t|\n",
        "| name \t|  \t|  \t| ✅ \t| ['Blood Bowl 3: Black Orcs Edition', 'Shinobi Blade', 'DDRMax2: Dance Dance Revolution', 'Transformers Prime: The Game', 'Dotra'] \t|\n",
        "| parent_game \t| game_id \t|  \t|  \t| [110980, 46584, 198295, 231152, 107843] \t|\n",
        "| platforms \t|  \t| 🟢 \t| ✅ \t| [[49, 169], [130], [8, 52], [34, 39], [6]] \t|\n",
        "| player_perspectives \t|  \t|  \t| ❌ \t| [[6], [2, 4], [1, 7], [1], [2]] \t|\n",
        "| ports \t|  \t|  \t| ❌ \t| [[73949, 144894], [10], [251353], [122871], [8809]] \t|\n",
        "| rating \t|  \t|  \t| ❌ \t| [70.0, 78.83709512164174, 60.0, 40.0, 50.0] \t|\n",
        "| rating_count \t|  \t|  \t| ❌ \t| [0, 102, 0, 0, 0] \t|\n",
        "| release_dates \t|  \t|  \t| ❌ \t| [[455316, 455317], [249798, 340666], [201923, 201924, 201925], [511087], [345917, 387770, 387772, 387773, 389364, 406085]] \t|\n",
        "| remakes \t|  \t|  \t| ❌ \t| [[18189], [222995], [93192], [1181], [245057]] \t|\n",
        "| remasters \t|  \t|  \t| ❌ \t| [[265060], [145817, 158981], [11218], [203435], [267307]] \t|\n",
        "| reviews.author \t|  \t|  \t| ✅ \t| ['maskedgingerjock', 'MisterEcho', 'Ziggy The Adventurer', 'Obey the Fist!', 'Sixth'] \t|\n",
        "| reviews.postedDate \t|  \t|  \t| ✅ \t| ['18 September', '4 September', '3 September', '31 March, 2022\\t\\t\\t\\t\\t\\t\\t\\t\\t\\t\\t\\t\\t\\t\\t\\t\\t\\t\\t\\t\\t\\r\\n\\t\\t\\t\\t\\t\\t\\t\\t\\t\\t\\t\\t\\t\\t\\tSteam Key', '21 September, 2022'] \t|\n",
        "| reviews.recommended \t|  \t|  \t| ✅ \t| [False, True, None, False, True] \t|\n",
        "| reviews.review \t|  \t|  \t| ✅ \t| ['This game is horrible. This game is boring.You can get both endings in under 10 minutes.There is no ...', 'https://youtu.be/dbbmoI0O5UgPretty nice game if you like indie walking simulator games with some jum...', \"Plays fine, looks okay, very limited options, no body, can't jump or crouch, can be finished in abou...\", 'Warning: Asset Flip!Pet Puzzle is a Unity Asset flip, what Valve calls a \"fake game\". \t|\n",
        "| screenshots \t|  \t|  \t| ❌ \t| [[1002202, 1002203, 1002204, 1002205, 1002206, 1002207], [447897, 447898, 447899, 447900, 447901], [338676, 338677, 338678, 390639, 390640], [1128097, 1128099, 1128104, 1128107, 1128111], [311510, 311511, 311512, 311513, 311514]] \t|\n",
        "| similar_games \t| game_id \t|  \t|  \t| [[17613, 24620, 36269, 36346, 65827, 76340, 77038, 77597, 111043, 112754], [10605, 56033, 87622, 96217, 101608, 103292, 103369, 111130, 114145, 117533], [3679, 18981, 27378, 38967, 43218, 43488, 43680, 63933, 73042, 76901], [18115, 19222, 25905, 41349, 85804, 87170, 87507, 90788, 90965, 95776], [13189, 25222, 27266, 55282, 75948, 87975, 96217, 106992, 111130, 121217]] \t|\n",
        "| slug \t|  \t|  \t| ❌ \t| ['blood-bowl-3-black-orcs-edition', 'shinobi-blade', 'ddrmax2-dance-dance-revolution', 'transformers-prime-the-game', 'dotra'] \t|\n",
        "| standalone_expansions \t|  \t|  \t| ❌ \t| [[146969], [3735], [27898], [203628], [128415]] \t|\n",
        "| status \t|  \t| 🟢 \t| ✅ \t| [8, 4, 4, 4, 4] \t|\n",
        "| steam \t|  \t|  \t| ❌ \t| ['2557720', '1092080', '1667954', '1851020', '2009730'] \t|\n",
        "| storyline \t|  \t|  \t| ❌ \t| ['In the ancient, mysterious world of the Jade Empire, you train under your master’s watchful eye and ...', 'From the frigid climes of Norsca to the arid wastes of the southern Badlands, The Old World echoes t...', 'You live in a peaceful world that has triumphed over a giant alien invasion. To pay off your debts, ...', \"You who are unqualified to drink Meng Po's soup, you have been chosen for the game of life. Three wo...\", 'Following the end of the Galactic Civil War, the bright lights of The Arena burst into life and offe...'] \t|\n",
        "| summary \t|  \t|  \t| ✅ \t| [\"Fashion is not exactly a priority for Black Orcs… but intimidation, on the other hand, now we're tal...\", 'Shinobi Blade is an action-packed game, lets you play the role of a teenage ninja who sneaked out of...', 'The dance floor kicks into overdrive with DDRMAX2 Dance Dance Revolution. It is the latest installme...', 'Shoot bubbles and match colors to pop your way up to victory in this bubble shooting adventure, win ...', 'A missing father, a mysterious murder, paintings depicting missing children. Horror game in which th...'] \t|\n",
        "| tags \t|  \t|  \t| ❌ \t| [[268435471], [1, 268435460, 268435487, 268435489], [40, 268435463, 268435469, 268435489, 536872611, 536873064, 536875049, 536875350, 536875941, 536876100, 536876101, 536881010, 536884027], [268435465, 268435489], [268435487, 268435488]] \t|\n",
        "| themes \t|  \t|  \t| ❌ \t| [[1], [40], [17, 22, 27], [1], [1]] \t|\n",
        "| total_rating \t|  \t|  \t| ✅ \t| [65.0, 70.0, 73.25, 80.66854756082087, 60.0] \t|\n",
        "| total_rating_count \t|  \t|  \t| ✅ \t| [3, 0, 4, 105, 0] \t|\n",
        "| updated_at \t|  \t|  \t| ❌ \t| [1699266775, 1698219001, 1696215459, 1670993154, 1670992528] \t|\n",
        "| url \t|  \t|  \t| ❌ \t| ['https://www.igdb.com/games/blood-bowl-3-black-orcs-edition', 'https://www.igdb.com/games/shinobi-blade', 'https://www.igdb.com/games/ddrmax2-dance-dance-revolution', 'https://www.igdb.com/games/transformers-prime-the-game', 'https://www.igdb.com/games/dotra'] \t|\n",
        "| version_parent \t|  \t|  \t| ❌ \t| [138137, 24115, 139736, 138137, 28856] \t|\n",
        "| version_title \t|  \t|  \t| ❌ \t| ['Black Orcs Edition', 'Platinum Edition', \"Collector's Edition\", 'Imperial Nobility Edition', 'Digital Deluxe Edition'] \t|\n",
        "| videos \t|  \t|  \t| ❌ \t| [[37984], [64610], [28099], [35464], [28553]] \t|\n",
        "| websites \t|  \t|  \t| ❌ \t| [[455726], [145653, 145654, 145655, 354472], [445624], [429116], [407422]] \t|"
      ]
    },
    {
      "cell_type": "code",
      "execution_count": null,
      "metadata": {},
      "outputs": [],
      "source": [
        "def explore_keys_with_examples(data, path='', examples=None):\n",
        "    \"\"\"\n",
        "    Funzione ricorsiva per esplorare le chiavi in un dataset JSON e raccogliere esempi.\n",
        "    \n",
        "    :param data: Il dataset o una parte di esso.\n",
        "    :param path: Il percorso corrente delle chiavi.\n",
        "    :param examples: Un dizionario che tiene traccia degli esempi per ogni chiave.\n",
        "    :return: None. Modifica il dizionario `examples` direttamente.\n",
        "    \"\"\"\n",
        "    if examples is None:\n",
        "        examples = {}\n",
        "\n",
        "    if isinstance(data, dict):\n",
        "        for k, v in data.items():\n",
        "            new_path = f\"{path}.{k}\" if path else k\n",
        "            if new_path not in examples:\n",
        "                examples[new_path] = []\n",
        "            if len(examples[new_path]) < 5:\n",
        "                # Tronca il testo se è troppo lungo\n",
        "                if isinstance(v, str) and len(v) > 100:\n",
        "                    v = v[:100] + \"...\"\n",
        "                examples[new_path].append(v)\n",
        "            explore_keys_with_examples(v, new_path, examples)\n",
        "\n",
        "    elif isinstance(data, list):\n",
        "        for item in data:\n",
        "            explore_keys_with_examples(item, path, examples)\n",
        "\n",
        "    return examples\n",
        "\n",
        "# Esplora le chiavi e raccogli esempi\n",
        "examples = explore_keys_with_examples(json_data)\n",
        "\n",
        "# Stampa i risultati\n",
        "for key in sorted(examples):\n",
        "    print(f\"{key}: {examples[key]}\")\n",
        "    #print(f\"{examples[key]}\")\n"
      ]
    },
    {
      "cell_type": "markdown",
      "metadata": {},
      "source": [
        "#### Count objects with particular fields"
      ]
    },
    {
      "cell_type": "code",
      "execution_count": 13,
      "metadata": {},
      "outputs": [
        {
          "name": "stdout",
          "output_type": "stream",
          "text": [
            "Numero di giochi: 259290\n",
            "Numero di oggetti senza la chiave 'companies': 159333\n",
            "Numero di oggetti senza la chiave 'involved_companies': 148168\n",
            "Numero di oggetti con la chiave 'involved_companies' ma senza 'companies': 11644\n"
          ]
        }
      ],
      "source": [
        "count_games = sum(1 for item in json_data)\n",
        "count_without_companies = sum(1 for item in json_data if 'companies' not in item)\n",
        "count_without_involved_companies = sum(1 for item in json_data if 'involved_companies' not in item)\n",
        "\n",
        "x = sum(1 for item in json_data if 'involved_companies' in item and 'companies' not in item)\n",
        "\n",
        "print(f\"Numero di giochi: {count_games}\")\n",
        "print(f\"Numero di oggetti senza la chiave 'companies': {count_without_companies}\")\n",
        "print(f\"Numero di oggetti senza la chiave 'involved_companies': {count_without_involved_companies}\")\n",
        "print(f\"Numero di oggetti con la chiave 'involved_companies' ma senza 'companies': {x}\")\n"
      ]
    },
    {
      "cell_type": "markdown",
      "metadata": {},
      "source": [
        "### Distinct list of elements of a particular field"
      ]
    },
    {
      "cell_type": "code",
      "execution_count": null,
      "metadata": {},
      "outputs": [],
      "source": [
        "def extract_unique_elements_from_field(json_data, field_name):\n",
        "    \"\"\"\n",
        "    Estrae elementi unici da un campo specificato in un dataset JSON.\n",
        "\n",
        "    :param json_data: Il dataset JSON (lista di dizionari).\n",
        "    :param field_name: Il nome del campo da cui estrarre gli elementi.\n",
        "    :return: Un set di elementi unici.\n",
        "    \"\"\"\n",
        "    unique_elements = set()\n",
        "\n",
        "    for item in json_data:\n",
        "        if field_name in item and isinstance(item[field_name], list):\n",
        "            unique_elements.update(item[field_name])\n",
        "\n",
        "    return unique_elements\n",
        "\n",
        "\n",
        "# Scegli il campo da cui estrarre gli elementi\n",
        "field_to_extract = \"involved_companies\"\n",
        "\n",
        "# Estrai gli elementi unici\n",
        "unique_elements = extract_unique_elements_from_field(json_data, field_to_extract)\n",
        "\n",
        "# Stampa i risultati\n",
        "print(f\"{unique_elements}\")\n"
      ]
    },
    {
      "cell_type": "markdown",
      "metadata": {},
      "source": [
        "### API request with wrapper"
      ]
    },
    {
      "cell_type": "code",
      "execution_count": 2,
      "metadata": {},
      "outputs": [],
      "source": [
        "import os\n",
        "from dotenv import load_dotenv\n",
        "from igdb.wrapper import IGDBWrapper\n",
        "from google.protobuf.json_format import MessageToJson\n",
        "#from igdb.igdbapi_pb2 import GameResult\n",
        "\n",
        "# Carica le variabili d'ambiente\n",
        "load_dotenv(\"./.env\")\n",
        "\n",
        "wrapper = IGDBWrapper(os.getenv('LSD_CLIENT_ID').strip(), os.getenv('LSD_ACCESS_TOKEN').strip())\n"
      ]
    },
    {
      "cell_type": "code",
      "execution_count": null,
      "metadata": {},
      "outputs": [],
      "source": [
        "import requests\n",
        "\n",
        "def fetch_company_names(ids):\n",
        "    \"\"\"\n",
        "    Effettua richieste API per recuperare i nomi delle compagnie basandosi sui loro ID.\n",
        "\n",
        "    :param ids: Una lista di ID.\n",
        "    :return: Un dizionario con ID come chiavi e nomi delle compagnie come valori.\n",
        "    \"\"\"\n",
        "    #games_message = GameResult()\n",
        "    company_names = {}\n",
        "\n",
        "    # Suddividi gli ID in gruppi di 500\n",
        "    step = 500\n",
        "    for i in range(27932, len(ids), step):\n",
        "        batch_ids = ids[i:i + step]\n",
        "        id_list = ', '.join(map(str, batch_ids))\n",
        "        payload = f\"fields id, name;\\r\\nlimit 500;\\r\\nwhere id = ({id_list});\\r\\nsort id asc;\"\n",
        "\n",
        "        try:\n",
        "            result = wrapper.api_request(\n",
        "                'games', \n",
        "                'fields id, name; offset 0; where platforms=48;'\n",
        "            ).decode('utf-8')\n",
        "        except Exception as e:\n",
        "            print(\"Errore nella richiesta API:\", e)\n",
        "            print(\"Payload:\", payload)\n",
        "            break\n",
        "        \n",
        "        #print(games_message.ParseFromString(result).companies)\n",
        "\n",
        "        companies = result\n",
        "        print(companies)\n",
        "        for company in companies:\n",
        "            company_names[str(company[\"id\"])] = company[\"name\"]\n",
        "            \n",
        "    return company_names\n",
        "\n",
        "# Esempio di lista di ID\n",
        "ids_to_fetch = list(unique_elements)  # Aggiungi qui tutti gli ID necessari\n",
        "\n",
        "# Ottieni i nomi delle compagnie\n",
        "company_names = fetch_company_names(ids_to_fetch)\n",
        "\n",
        "# Stampa i risultati\n",
        "print(company_names)"
      ]
    },
    {
      "cell_type": "markdown",
      "metadata": {},
      "source": [
        "## Companies retieval\n",
        "1. Get all of the companies (with the list of the games they developed) from the IGDB API.\n",
        "2. For each company, for each game it developed, access the dataset and add company name and company id as nested object under the key \"companies\" (a game can have more companies)"
      ]
    },
    {
      "cell_type": "code",
      "execution_count": 3,
      "metadata": {},
      "outputs": [],
      "source": [
        "def get_company_for_games(offset):\n",
        "    '''\n",
        "    Get companies from IGDB API with a certain offset\n",
        "    '''\n",
        "    try:\n",
        "        result = wrapper.api_request(\n",
        "            'companies', \n",
        "            f'fields id, name, developed; limit 500; sort id asc; offset {offset};'\n",
        "        ).decode('utf-8')\n",
        "    except Exception as e:\n",
        "        print(\"Errore nella richiesta API:\", e)\n",
        "\n",
        "    return json.loads(result)\n",
        "    \n",
        "group_size = 500\n",
        "game_ids = [elem[\"id\"] for elem in json_data]\n",
        "companies = {}\n",
        "offset = 0\n",
        "while True:\n",
        "    companies_buff = get_company_for_games(offset)\n",
        "    for elem in companies_buff: companies[elem[\"id\"]] = elem\n",
        "    if len(companies_buff) < group_size: break\n",
        "    offset += 500\n",
        "\n",
        "with open(\"./../dataset/companies.json\",\"w\") as f:\n",
        "    f.write(json.dumps(companies, indent = 4))\n"
      ]
    },
    {
      "cell_type": "code",
      "execution_count": 10,
      "metadata": {},
      "outputs": [],
      "source": [
        "\"\"\"\n",
        "For each company, we iterate through the \"developed\" array, which represent the games developed by that company.\n",
        "We then add a new key \"company\" to the original dataset's game objects and assign it a list of {company_id, company_name} dictionaries.\n",
        "\"\"\"\n",
        "for company in companies.values():\n",
        "    company_obj = {\n",
        "        \"company_id\": company[\"id\"],\n",
        "        \"company_name\": company[\"name\"]\n",
        "    }\n",
        "    if 'developed' not in company: continue\n",
        "    for developed_game in company[\"developed\"]:\n",
        "        stringified_game_id = str(developed_game)\n",
        "        if stringified_game_id not in json_data_raw: continue\n",
        "        if \"companies\" in json_data_raw[stringified_game_id]: json_data_raw[stringified_game_id][\"companies\"].append(company_obj)\n",
        "        else: json_data_raw[stringified_game_id][\"companies\"] = [company_obj]\n",
        "\n",
        "with open(\"./../dataset/raw_dataset_with_companies.json\",\"w\") as f:\n",
        "    f.write(json.dumps(json_data_raw, indent = 4))"
      ]
    },
    {
      "cell_type": "markdown",
      "metadata": {},
      "source": [
        "## Languages retieval"
      ]
    },
    {
      "cell_type": "code",
      "execution_count": null,
      "metadata": {},
      "outputs": [],
      "source": []
    },
    {
      "cell_type": "code",
      "execution_count": null,
      "metadata": {},
      "outputs": [],
      "source": []
    },
    {
      "cell_type": "code",
      "execution_count": null,
      "metadata": {},
      "outputs": [],
      "source": []
    },
    {
      "cell_type": "code",
      "execution_count": null,
      "metadata": {},
      "outputs": [],
      "source": []
    },
    {
      "cell_type": "code",
      "execution_count": null,
      "metadata": {},
      "outputs": [],
      "source": []
    },
    {
      "cell_type": "markdown",
      "metadata": {},
      "source": [
        "## Setup and Dataset Import"
      ]
    },
    {
      "cell_type": "code",
      "execution_count": null,
      "metadata": {},
      "outputs": [],
      "source": [
        "import pandas as pd\n",
        "import numpy as np\n",
        "import matplotlib.pyplot as plt\n",
        "import seaborn as sns\n",
        "from datetime import datetime\n",
        "import json\n",
        "\n",
        "# Carica il dataset\n",
        "with open('./../dataset/games_dataset_reviews_transformed.json', 'r') as file:\n",
        "    data = json.load(file)\n",
        "    \n",
        "df = pd.json_normalize(data)"
      ]
    },
    {
      "cell_type": "markdown",
      "metadata": {},
      "source": [
        "## Preliminar analysis"
      ]
    },
    {
      "cell_type": "code",
      "execution_count": null,
      "metadata": {
        "notebookRunGroups": {
          "groupValue": ""
        }
      },
      "outputs": [],
      "source": [
        "# Visualizza le prime righe del dataset\n",
        "print(df.head())\n",
        "\n",
        "# Informazioni sul dataset\n",
        "print(df.info())\n",
        "\n",
        "# Statistiche descrittive\n",
        "print(df.describe())\n",
        "\n",
        "# Conteggio valori nulli\n",
        "print(df.isnull().sum())"
      ]
    },
    {
      "cell_type": "markdown",
      "metadata": {},
      "source": [
        "## Enetities Analysis\n",
        "### Games"
      ]
    },
    {
      "cell_type": "code",
      "execution_count": null,
      "metadata": {},
      "outputs": [],
      "source": [
        "# Analisi dei generi\n",
        "genre_counts = df['genres'].explode().value_counts()\n",
        "plt.figure(figsize=(10, 6))\n",
        "sns.barplot(x=genre_counts.index, y=genre_counts.values)\n",
        "plt.title('Distribuzione dei Generi di Giochi')\n",
        "plt.xlabel('Genere')\n",
        "plt.ylabel('Conteggio')\n",
        "plt.show()\n",
        "\n",
        "# Analisi delle piattaforme\n",
        "# Codice simile può essere usato per analizzare le piattaforme"
      ]
    }
  ],
  "metadata": {
    "kernelspec": {
      "display_name": "Python 3",
      "language": "python",
      "name": "python3"
    },
    "language_info": {
      "codemirror_mode": {
        "name": "ipython",
        "version": 3
      },
      "file_extension": ".py",
      "mimetype": "text/x-python",
      "name": "python",
      "nbconvert_exporter": "python",
      "pygments_lexer": "ipython3",
      "version": "3.11.3"
    }
  },
  "nbformat": 4,
  "nbformat_minor": 2
}
